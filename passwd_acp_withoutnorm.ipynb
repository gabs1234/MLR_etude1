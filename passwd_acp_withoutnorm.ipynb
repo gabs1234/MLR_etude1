{
 "cells": [
  {
   "cell_type": "markdown",
   "metadata": {},
   "source": [
    "## Importation des modules et lectures du fichier "
   ]
  },
  {
   "cell_type": "code",
   "execution_count": 1,
   "metadata": {},
   "outputs": [],
   "source": [
    "import numpy as np\n",
    "import matplotlib.pyplot as plt\n",
    "labels=None\n",
    "indiv=[]\n",
    "varbs=None"
   ]
  },
  {
   "cell_type": "code",
   "execution_count": 2,
   "metadata": {},
   "outputs": [],
   "source": [
    "keys=np.loadtxt(\"KeyboardData1.csv\",dtype='str',delimiter=',')\n",
    "labels = keys[1:,0]\n",
    "keys=keys[:,1:] # On retire la premiere colonne\n",
    "varbs=keys[0,:] #nom des variables\n",
    "X=keys[1:,:].astype(float)"
   ]
  },
  {
   "cell_type": "markdown",
   "metadata": {},
   "source": [
    "### on regarde un peu les données"
   ]
  },
  {
   "cell_type": "code",
   "execution_count": 3,
   "metadata": {},
   "outputs": [
    {
     "name": "stdout",
     "output_type": "stream",
     "text": [
      "['H.period' 'UD.period.t' 'H.t' 'UD.t.i' 'H.i' 'UD.i.e' 'H.e' 'UD.e.five'\n",
      " 'H.five' 'UD.five.Shift.r' 'H.Shift.r' 'UD.Shift.r.o' 'H.o' 'UD.o.a'\n",
      " 'H.a' 'UD.a.n' 'H.n' 'UD.n.l' 'H.l' 'UD.l.Return' 'H.Return']\n"
     ]
    },
    {
     "data": {
      "text/plain": [
       "21"
      ]
     },
     "execution_count": 3,
     "metadata": {},
     "output_type": "execute_result"
    }
   ],
   "source": [
    "print(varbs) #H = hold, UD = UpDown \n",
    "len(varbs)"
   ]
  },
  {
   "cell_type": "code",
   "execution_count": 4,
   "metadata": {},
   "outputs": [
    {
     "name": "stdout",
     "output_type": "stream",
     "text": [
      "['2' '2' '2' ... '57' '57' '57']\n"
     ]
    }
   ],
   "source": [
    "print(labels)"
   ]
  },
  {
   "cell_type": "code",
   "execution_count": 5,
   "metadata": {},
   "outputs": [
    {
     "data": {
      "text/plain": [
       "(19176, 21)"
      ]
     },
     "execution_count": 5,
     "metadata": {},
     "output_type": "execute_result"
    }
   ],
   "source": [
    "np.shape(X)"
   ]
  },
  {
   "cell_type": "code",
   "execution_count": 6,
   "metadata": {},
   "outputs": [
    {
     "name": "stdout",
     "output_type": "stream",
     "text": [
      "[[0.1491 0.2488 0.1069 ... 0.1338 0.2171 0.0742]\n",
      " [0.1111 0.234  0.0694 ... 0.0839 0.1917 0.0747]\n",
      " [0.1328 0.0744 0.0731 ... 0.1085 0.1762 0.0945]\n",
      " ...\n",
      " [0.0939 0.025  0.1008 ... 0.1034 0.0983 0.0905]\n",
      " [0.0923 0.0371 0.0913 ... 0.0979 0.0938 0.0931]\n",
      " [0.0596 0.0714 0.0992 ... 0.0807 0.1186 0.1018]]\n"
     ]
    }
   ],
   "source": [
    "#Remarque : probablement pas besoin de faire de normalisation, mais à tester \n",
    "print(X)"
   ]
  },
  {
   "cell_type": "markdown",
   "metadata": {},
   "source": [
    "### ACP"
   ]
  },
  {
   "cell_type": "code",
   "execution_count": 29,
   "metadata": {},
   "outputs": [],
   "source": [
    "def stdise(X):\n",
    "  \"\"\"Routine de standardisation\n",
    "  \"\"\"\n",
    "  Xs=X.astype(float)\n",
    "  mk=np.mean(Xs,axis=0)\n",
    "  # Calcul de l'ecart-type avec max pour eviter une division par 0\n",
    "  sk=np.maximum(np.std(Xs,axis=0),10*np.finfo(float).eps)\n",
    "  Xs=np.add(Xs,-mk)\n",
    "  #Xs=np.multiply(Xs,1/sk)\n",
    "  return Xs\n",
    "# SVD. Axes Composantes\n",
    "# Apres standardisation les colonnes sont de norme \"nb de ligne\" et non 1,\n",
    "# on corrige cela, pour avoir de meilleures echelles.\n",
    "Ps=stdise(X)/np.sqrt(np.shape(X)[0])\n",
    "(U,D,VT) = np.linalg.svd(Ps,full_matrices=False)\n",
    "V=VT.T"
   ]
  },
  {
   "cell_type": "code",
   "execution_count": 30,
   "metadata": {},
   "outputs": [],
   "source": [
    "# Premieres composantes principales\n",
    "C1 = D[0]*U[:,0]\n",
    "C2 = D[1]*U[:,1]\n",
    "C3 = D[2]*U[:,2]\n",
    "# Axes principaux modifies pour le cercle des correlations\n",
    "A1 = D[0]*V[:,0]\n",
    "A2 = D[1]*V[:,1]"
   ]
  },
  {
   "cell_type": "code",
   "execution_count": 31,
   "metadata": {},
   "outputs": [
    {
     "data": {
      "text/plain": [
       "(19176,)"
      ]
     },
     "execution_count": 31,
     "metadata": {},
     "output_type": "execute_result"
    }
   ],
   "source": [
    "np.shape(C1)"
   ]
  },
  {
   "cell_type": "markdown",
   "metadata": {},
   "source": [
    "## Tracés"
   ]
  },
  {
   "cell_type": "code",
   "execution_count": 32,
   "metadata": {},
   "outputs": [
    {
     "data": {
      "text/plain": [
       "Text(0, 0.5, 'C2')"
      ]
     },
     "execution_count": 32,
     "metadata": {},
     "output_type": "execute_result"
    },
    {
     "data": {
      "image/png": "[encoded data removed]",
      "text/plain": [
       "<Figure size 432x288 with 1 Axes>"
      ]
     },
     "metadata": {
      "needs_background": "light"
     },
     "output_type": "display_data"
    }
   ],
   "source": [
    "plt.close('all')\n",
    "plt.figure()\n",
    "plt.title('Representation des individus dans le plan (C1,C2)')\n",
    "if labels is None:\n",
    "  plt.scatter(C1,C2)\n",
    "else:\n",
    "  vlab=np.unique(labels)\n",
    "  lv=len(vlab)\n",
    "  cols=plt.cm.nipy_spectral(np.arange(lv)/lv)\n",
    "  for i,vl in enumerate(vlab):\n",
    "    l=labels==vl\n",
    "    plt.scatter(C1[l],C2[l],s=1,label=vl,color=cols[i])\n",
    "#for i,nm in enumerate(indiv): plt.text(C1[i],C2[i],nm)\n",
    "plt.xlabel('C1')\n",
    "plt.ylabel('C2')"
   ]
  },
  {
   "cell_type": "code",
   "execution_count": 17,
   "metadata": {
    "scrolled": true
   },
   "outputs": [
    {
     "data": {
      "text/plain": [
       "Text(0, 0.5, 'C2')"
      ]
     },
     "execution_count": 17,
     "metadata": {},
     "output_type": "execute_result"
    },
    {
     "data": {
      "image/png": "[encoded data removed]",
      "text/plain": [
       "<Figure size 432x288 with 1 Axes>"
      ]
     },
     "metadata": {
      "needs_background": "light"
     },
     "output_type": "display_data"
    }
   ],
   "source": [
    "plt.close('all')\n",
    "plt.figure()\n",
    "plt.title('Representation des individus dans le plan (C1,C2)')\n",
    "if labels is None:\n",
    "  plt.scatter(C1,C2)\n",
    "else:\n",
    "  vlab=np.unique(labels)[:2]\n",
    "  lv=len(vlab)\n",
    "  cols=plt.cm.nipy_spectral(np.arange(lv)/lv)\n",
    "  for i,vl in enumerate(vlab):\n",
    "    l=labels==vl\n",
    "    plt.scatter(C1[l],C2[l],s=1,label=vl,color=cols[i])\n",
    "  plt.legend()\n",
    "#for i,nm in enumerate(indiv): plt.text(C1[i],C2[i],nm)\n",
    "plt.xlabel('C1')\n",
    "plt.ylabel('C2')"
   ]
  },
  {
   "cell_type": "code",
   "execution_count": 18,
   "metadata": {
    "scrolled": true
   },
   "outputs": [
    {
     "name": "stdout",
     "output_type": "stream",
     "text": [
      "[False  True False]\n",
      "[1 3]\n"
     ]
    }
   ],
   "source": [
    "a = np.array([1,2,3])\n",
    "print(a==2)\n",
    "print(a[[True,False,True]])"
   ]
  },
  {
   "cell_type": "code",
   "execution_count": 19,
   "metadata": {},
   "outputs": [
    {
     "data": {
      "text/plain": [
       "Text(0.5, 1.0, 'Inerties en %')"
      ]
     },
     "execution_count": 19,
     "metadata": {},
     "output_type": "execute_result"
    },
    {
     "data": {
      "image/png": "[encoded data removed]",
      "text/plain": [
       "<Figure size 432x288 with 1 Axes>"
      ]
     },
     "metadata": {
      "needs_background": "light"
     },
     "output_type": "display_data"
    }
   ],
   "source": [
    "# Inerties\n",
    "plt.figure() \n",
    "plt.bar(np.arange(np.shape(D)[0])+1,100*D**2/sum(D**2)) #inertie := carré des valeurs singulières\n",
    "                                                        #100 * (D²/sum(D²)) \n",
    "plt.title('Inerties en %')"
   ]
  },
  {
   "cell_type": "code",
   "execution_count": 20,
   "metadata": {},
   "outputs": [
    {
     "data": {
      "image/png": "[encoded data removed]",
      "text/plain": [
       "<Figure size 432x288 with 1 Axes>"
      ]
     },
     "metadata": {
      "needs_background": "light"
     },
     "output_type": "display_data"
    }
   ],
   "source": [
    "# Cercle des correlations\n",
    "if not varbs is None:\n",
    "  plt.figure() \n",
    "  plt.title('Cercle des corrélations')\n",
    "  Z = np.linspace(-np.pi, np.pi, 256,endpoint=True)\n",
    "  C,S = np.cos(Z), np.sin(Z)\n",
    "  plt.plot(C,S,c='black',lw=.7)\n",
    "  plt.axvline(c='black',ls='dashed',lw=1)\n",
    "  plt.axhline(c='black',ls='dashed',lw=1)\n",
    "  for i, txt in enumerate(varbs):\n",
    "    plt.arrow(0,0,A1[i],A2[i], length_includes_head=True,\n",
    "            head_width=0.025, head_length=.05)\n",
    "    plt.annotate(txt, (A1[i]+.01,A2[i]+.01),fontsize=12)\n",
    "  plt.xlabel('C1')\n",
    "  plt.ylabel('C2')"
   ]
  },
  {
   "cell_type": "code",
   "execution_count": null,
   "metadata": {},
   "outputs": [],
   "source": []
  }
 ],
 "metadata": {
  "kernelspec": {
   "display_name": "Python 3",
   "language": "python",
   "name": "python3"
  },
  "language_info": {
   "codemirror_mode": {
    "name": "ipython",
    "version": 3
   },
   "file_extension": ".py",
   "mimetype": "text/x-python",
   "name": "python",
   "nbconvert_exporter": "python",
   "pygments_lexer": "ipython3",
   "version": "3.8.5"
  }
 },
 "nbformat": 4,
 "nbformat_minor": 4
}
