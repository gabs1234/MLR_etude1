{
 "cells": [
  {
   "cell_type": "markdown",
   "metadata": {},
   "source": [
    "## Application du clustering au données digits"
   ]
  },
  {
   "cell_type": "code",
   "execution_count": 4,
   "metadata": {},
   "outputs": [],
   "source": [
    "import numpy as np\n",
    "from sklearn.cluster import  KMeans\n",
    "from sklearn.metrics import confusion_matrix\n",
    "import matplotlib.pyplot as plt\n",
    "# Chargement des données ======================================================\n",
    "digits=np.loadtxt(\"digits_extrait_images.csv\", delimiter=',',skiprows=1,usecols=range(1,785))\n",
    "labels=np.loadtxt(\"digits_extrait_labels.csv\", delimiter=',',skiprows=1,usecols=range(1,2))\n",
    "labels=labels.astype(int)"
   ]
  },
  {
   "cell_type": "markdown",
   "metadata": {},
   "source": [
    "### Réalisation du clustering\n",
    "\n",
    "Le nombre de classes nclus est choisi par défaut comme égal au nombre d'étiquettes"
   ]
  },
  {
   "cell_type": "code",
   "execution_count": 5,
   "metadata": {},
   "outputs": [
    {
     "name": "stdout",
     "output_type": "stream",
     "text": [
      "[1 3 3 2 2 2 2 0 2 2 2 0 2 1 3 4 4 4 0 2]\n",
      "[0 2 2 1 1 1 1 3 1 1 1 2 1 0 2 4 4 4 3 1]\n"
     ]
    }
   ],
   "source": [
    "# Clustering avec la fonction KMeans du module scikit learn ===================\n",
    "k_means = KMeans(init='k-means++', n_clusters=len(np.unique(labels)), n_init=10)\n",
    "k_means.fit(digits)\n",
    "cl = k_means.labels_ # classes \"prédites\" \n",
    "print(cl[range(20)])\n",
    "print(labels[range(20)])\n"
   ]
  },
  {
   "cell_type": "markdown",
   "metadata": {},
   "source": [
    " ### Images des centres de classe"
   ]
  },
  {
   "cell_type": "code",
   "execution_count": 6,
   "metadata": {},
   "outputs": [
    {
     "name": "stdout",
     "output_type": "stream",
     "text": [
      "\n",
      "Centres de classe:\n"
     ]
    },
    {
     "data": {
      "image/png": "[encoded data removed]",
      "text/plain": [
       "<Figure size 432x288 with 5 Axes>"
      ]
     },
     "metadata": {
      "needs_background": "light"
     },
     "output_type": "display_data"
    }
   ],
   "source": [
    "#  Images des centres de classe\n",
    "print('\\nCentres de classe:')\n",
    "plt.close('all')\n",
    "fig=plt.figure(2)\n",
    "plt.clf()\n",
    "for k in range(k_means.n_clusters):\n",
    "  plt.subplot(1,k_means.n_clusters,k+1)\n",
    "  plt.imshow(np.reshape(k_means.cluster_centers_[k,:],[28,28]))\n",
    "  plt.title(\"Classe \"+str(k))\n",
    "  plt.axis('off')\n",
    "plt.show()"
   ]
  },
  {
   "cell_type": "markdown",
   "metadata": {},
   "source": [
    "### Calcul de l'étiquette majoritaire de chaque classe"
   ]
  },
  {
   "cell_type": "code",
   "execution_count": 17,
   "metadata": {},
   "outputs": [
    {
     "name": "stdout",
     "output_type": "stream",
     "text": [
      "Classe............. 0 1 2 3 4 \n",
      "Label majoritaire.. 0 2 3 1 4 \n",
      "\n"
     ]
    }
   ],
   "source": [
    "print(\"Classe\".ljust(19,'.')+\" \",end='')\n",
    "for k in range(k_means.n_clusters): print(str(k)+\" \",end='')\n",
    "print(\"\\n\"+\"Label majoritaire\".ljust(19,'.')+\" \",end='')\n",
    "cl_lab = np.copy(cl)\n",
    "for k in range(k_means.n_clusters):\n",
    "  counts=np.unique(labels[cl==k],return_counts=True) # Nb d'occurences de chaque label\n",
    "  maj_lab=labels[np.argmax(counts[1])] # Son étiquette\n",
    "  imax=np.argmax(counts[1]) # Calcul du majoritaire\n",
    "  maj_lab=counts[0][imax] # Son étiquette\n",
    "  print(str(maj_lab),end=' ')\n",
    "  cl_lab[cl==k] = maj_lab\n",
    "cl_lab = np.copy(cl)\n",
    "print('\\n')"
   ]
  },
  {
   "cell_type": "markdown",
   "metadata": {},
   "source": [
    "### Calcul de la matrice de confusion brute"
   ]
  },
  {
   "cell_type": "code",
   "execution_count": 18,
   "metadata": {},
   "outputs": [
    {
     "name": "stdout",
     "output_type": "stream",
     "text": [
      "Matrice de confusion:\n",
      "   Une ligne = un digit\n",
      "   Une colonne = un cluster\n",
      "\n",
      "[[513  12  37   1  11]\n",
      " [  0  12   2 672   1]\n",
      " [  9 433  52  61  23]\n",
      " [  6  24 534  32  15]\n",
      " [  1   6   0  13 557]]\n"
     ]
    }
   ],
   "source": [
    "conf_mat =  confusion_matrix(labels,cl)\n",
    "print(\"Matrice de confusion:\")\n",
    "print(\"   Une ligne = un digit\\n   Une colonne = un cluster\\n\")\n",
    "print(conf_mat)"
   ]
  },
  {
   "cell_type": "markdown",
   "metadata": {},
   "source": [
    "### Représentation en barplot"
   ]
  },
  {
   "cell_type": "code",
   "execution_count": 19,
   "metadata": {},
   "outputs": [
    {
     "data": {
      "text/plain": [
       "<matplotlib.legend.Legend at 0x7f768838ad00>"
      ]
     },
     "execution_count": 19,
     "metadata": {},
     "output_type": "execute_result"
    },
    {
     "data": {
      "image/png": "[encoded data removed]",
      "text/plain": [
       "<Figure size 432x288 with 1 Axes>"
      ]
     },
     "metadata": {
      "needs_background": "light"
     },
     "output_type": "display_data"
    }
   ],
   "source": [
    "def BarPlotMat(M): \n",
    "# Fait un barplot pour chaque colonne de M.\n",
    "# La couleur correspond à l'indice, la hauteur à la valeur\n",
    "  I=M.shape[0]\n",
    "  J=M.shape[1]\n",
    "  ind = np.arange(J)\n",
    "  haut = 0*M[0,:]\n",
    "  for i in range(I):\n",
    "    plt.bar(ind,M[i,:],bottom=haut,color=plt.cm.inferno(i/(I-1)))\n",
    "    haut += M[i,:]\n",
    "fig=plt.figure(3)\n",
    "plt.clf()\n",
    "BarPlotMat(conf_mat)\n",
    "plt.xlabel('Classe')\n",
    "plt.ylabel('Répartition des étiquettes')\n",
    "plt.title('Répartition dans chaque classe')\n",
    "plt.legend(['0','1','2','3','4',])"
   ]
  }
 ],
 "metadata": {
  "kernelspec": {
   "display_name": "Python 3",
   "language": "python",
   "name": "python3"
  },
  "language_info": {
   "codemirror_mode": {
    "name": "ipython",
    "version": 3
   },
   "file_extension": ".py",
   "mimetype": "text/x-python",
   "name": "python",
   "nbconvert_exporter": "python",
   "pygments_lexer": "ipython3",
   "version": "3.8.5"
  }
 },
 "nbformat": 4,
 "nbformat_minor": 4
}
