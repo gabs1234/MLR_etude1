{
 "cells": [
  {
   "cell_type": "markdown",
   "metadata": {},
   "source": [
    "## Importation des modules et lectures du fichier "
   ]
  },
  {
   "cell_type": "code",
   "execution_count": 14,
   "metadata": {},
   "outputs": [],
   "source": [
    "import numpy as np\n",
    "import matplotlib.pyplot as plt\n",
    "from scipy.cluster.hierarchy import *\n",
    "labels=None\n",
    "indiv=[]\n",
    "varbs=None"
   ]
  },
  {
   "cell_type": "code",
   "execution_count": 15,
   "metadata": {},
   "outputs": [],
   "source": [
    "keys0=np.loadtxt(\"KeyboardData1.csv\",dtype='str',delimiter=',')\n",
    "labels = keys0[1:,0]\n",
    "keys0=keys0[:,1:] # On retire la premiere colonne\n",
    "varbs=keys0[0,:] #nom des variables\n",
    "X=keys0[1:,:].astype(float)"
   ]
  },
  {
   "cell_type": "markdown",
   "metadata": {},
   "source": [
    "### on regarde un peu les données"
   ]
  },
  {
   "cell_type": "code",
   "execution_count": 16,
   "metadata": {},
   "outputs": [
    {
     "name": "stdout",
     "output_type": "stream",
     "text": [
      "['H.period' 'UD.period.t' 'H.t' 'UD.t.i' 'H.i' 'UD.i.e' 'H.e' 'UD.e.five'\n",
      " 'H.five' 'UD.five.Shift.r' 'H.Shift.r' 'UD.Shift.r.o' 'H.o' 'UD.o.a'\n",
      " 'H.a' 'UD.a.n' 'H.n' 'UD.n.l' 'H.l' 'UD.l.Return' 'H.Return']\n"
     ]
    },
    {
     "data": {
      "text/plain": [
       "21"
      ]
     },
     "execution_count": 16,
     "metadata": {},
     "output_type": "execute_result"
    }
   ],
   "source": [
    "print(varbs) #H = hold, UD = UpDown \n",
    "len(varbs)"
   ]
  },
  {
   "cell_type": "code",
   "execution_count": 17,
   "metadata": {},
   "outputs": [
    {
     "name": "stdout",
     "output_type": "stream",
     "text": [
      "['2' '2' '2' ... '57' '57' '57']\n"
     ]
    }
   ],
   "source": [
    "print(labels)"
   ]
  },
  {
   "cell_type": "code",
   "execution_count": 19,
   "metadata": {},
   "outputs": [],
   "source": [
    "def stdise(X):\n",
    "  \"\"\"Routine de standardisation\n",
    "  \"\"\"\n",
    "  Xs=X.astype(float)\n",
    "  mk=np.mean(Xs,axis=0) #axis = 0, on calcule verticalement, les moyennes sur les colonnes \n",
    "  # Calcul de l'ecart-type avec max pour eviter une division par 0\n",
    "  sk=np.maximum(np.std(Xs,axis=0),10*np.finfo(float).eps)\n",
    "  Xs=np.add(Xs,-mk)\n",
    "  Xs=np.multiply(Xs,1/sk)\n",
    "  return Xs, mk, sk\n",
    "keys, mk, sk = stdise(X)\n",
    "\n",
    "M=linkage(keys,method='single',metric='euclidean')"
   ]
  },
  {
   "cell_type": "code",
   "execution_count": null,
   "metadata": {},
   "outputs": [],
   "source": []
  }
 ],
 "metadata": {
  "kernelspec": {
   "display_name": "Python 3",
   "language": "python",
   "name": "python3"
  },
  "language_info": {
   "codemirror_mode": {
    "name": "ipython",
    "version": 3
   },
   "file_extension": ".py",
   "mimetype": "text/x-python",
   "name": "python",
   "nbconvert_exporter": "python",
   "pygments_lexer": "ipython3",
   "version": "3.8.5"
  }
 },
 "nbformat": 4,
 "nbformat_minor": 4
}
