{
 "cells": [
  {
   "cell_type": "markdown",
   "metadata": {},
   "source": [
    "## Importation des modules et lectures du fichier "
   ]
  },
  {
   "cell_type": "code",
   "execution_count": 2,
   "metadata": {},
   "outputs": [],
   "source": [
    "import numpy as np\n",
    "import matplotlib.pyplot as plt\n",
    "from sklearn.cluster import AgglomerativeClustering\n",
    "labels=None\n",
    "indiv=[]\n",
    "varbs=None"
   ]
  },
  {
   "cell_type": "code",
   "execution_count": 3,
   "metadata": {},
   "outputs": [],
   "source": [
    "keys0=np.loadtxt(\"KeyboardData1.csv\",dtype='str',delimiter=',')\n",
    "labels = keys0[1:,0]\n",
    "keys0=keys0[:,1:] # On retire la premiere colonne\n",
    "varbs=keys0[0,:] #nom des variables\n",
    "X=keys0[1:,:].astype(float)"
   ]
  },
  {
   "cell_type": "markdown",
   "metadata": {},
   "source": [
    "### on regarde un peu les données"
   ]
  },
  {
   "cell_type": "code",
   "execution_count": 4,
   "metadata": {},
   "outputs": [
    {
     "name": "stdout",
     "output_type": "stream",
     "text": [
      "['H.period' 'UD.period.t' 'H.t' 'UD.t.i' 'H.i' 'UD.i.e' 'H.e' 'UD.e.five'\n",
      " 'H.five' 'UD.five.Shift.r' 'H.Shift.r' 'UD.Shift.r.o' 'H.o' 'UD.o.a'\n",
      " 'H.a' 'UD.a.n' 'H.n' 'UD.n.l' 'H.l' 'UD.l.Return' 'H.Return']\n"
     ]
    },
    {
     "data": {
      "text/plain": [
       "21"
      ]
     },
     "execution_count": 4,
     "metadata": {},
     "output_type": "execute_result"
    }
   ],
   "source": [
    "print(varbs) #H = hold, UD = UpDown \n",
    "len(varbs)"
   ]
  },
  {
   "cell_type": "code",
   "execution_count": 9,
   "metadata": {},
   "outputs": [
    {
     "name": "stdout",
     "output_type": "stream",
     "text": [
      "['2' '2' '2' ... '57' '57' '57']\n",
      "51\n"
     ]
    }
   ],
   "source": [
    "print(labels)"
   ]
  },
  {
   "cell_type": "code",
   "execution_count": 6,
   "metadata": {},
   "outputs": [],
   "source": [
    "def stdise(X):\n",
    "  \"\"\"Routine de standardisation\n",
    "  \"\"\"\n",
    "  Xs=X.astype(float)\n",
    "  mk=np.mean(Xs,axis=0) #axis = 0, on calcule verticalement, les moyennes sur les colonnes \n",
    "  # Calcul de l'ecart-type avec max pour eviter une division par 0\n",
    "  sk=np.maximum(np.std(Xs,axis=0),10*np.finfo(float).eps)\n",
    "  Xs=np.add(Xs,-mk)\n",
    "  Xs=np.multiply(Xs,1/sk)\n",
    "  return Xs, mk, sk\n",
    "keys, mk, sk = stdise(X)"
   ]
  },
  {
   "cell_type": "code",
   "execution_count": 11,
   "metadata": {},
   "outputs": [
    {
     "data": {
      "text/plain": [
       "array([ 8, 28, 28, ...,  5,  5, 37])"
      ]
     },
     "execution_count": 11,
     "metadata": {},
     "output_type": "execute_result"
    }
   ],
   "source": [
    "cluster = AgglomerativeClustering(n_clusters=len(np.unique(labels)), affinity='euclidean', linkage='ward')\n",
    "cluster.fit_predict(keys)"
   ]
  },
  {
   "cell_type": "code",
   "execution_count": 13,
   "metadata": {},
   "outputs": [
    {
     "name": "stdout",
     "output_type": "stream",
     "text": [
      "[ 8 28 28 ...  5  5 37]\n"
     ]
    }
   ],
   "source": []
  },
  {
   "cell_type": "code",
   "execution_count": 15,
   "metadata": {},
   "outputs": [
    {
     "name": "stdout",
     "output_type": "stream",
     "text": [
      "[ 8 28 28  8 14 24 24 24 24 24 24 24 17 33 24 24 24 11 42  5 11 11  5 39\n",
      "  5 24 24 11 16 11 39 11 24  2 16 11 11 11 11 11 28 11 11 16 11 11 16  8\n",
      " 24 16 24 11 11 11 11 11 40 11  5 11 16 11 11 11 24 11 11 11 11 11 11 33\n",
      " 11 11 11 11 11 11 11 11 11 11 11 11  5 11 11 24 11 11 11 46 11 11  2 11\n",
      " 11  9 11 11 44  5 11  2 11 11 14 46 11 11 46 36 36 11  2  5 11 11 11 11\n",
      " 11 11 11 11 24 11 11 11 11 11 11 11 11 11 11 11 11 11 11 11 11 11 11 11\n",
      " 11 11 11 11 11 11  5 11 11 11 11 11 11 11 11 11 11 11 11 11 11 11 11 42\n",
      " 11 11 11 11  5 11 45 11 11 11 11 11 11 11 14 11 24 24 46 46 11 11 24 11\n",
      " 11 11 11 11 11 11 11 11 11 17 11 11 11 11 42 11  5 11 42 33 11 11 11 11\n",
      " 11 11 11 11 11 11 11 11 11 11 11 11 11 24 24 11 46 11 11 11 11 11 11 11\n",
      " 11  5 31 11 17 11 11 11 11 11 11  5 11 11 11 11 11 11 31 11 11 11 11 11\n",
      " 11 11 39 11 11 11 11  5 11 11 11 11 11 11 11 11 11  5 11 24 11 11 11 11\n",
      " 39 11 46  5 17 11 11 11 11 11 11 31 46 11 11 42 11 11 46 11 11 46 42 17\n",
      " 46 11 11 45 11 36 45 11 42 22 11 11 11 11 11 46  5 10 10 10 10 10 10 10\n",
      " 10 10 10 46 10 10 10 10 10 10 10 10 46 10  7  5 10 10 10 10 10  7  7 10\n",
      " 10 13 46 10 13 10 10 10 10 10 10 46 10 10 10 10  8  7  7 22  8 13  8  7\n",
      " 22  7 33 13  7 13  2 13  0  0  7 33 13  7 13]\n"
     ]
    }
   ],
   "source": [
    "np.set_printoptions(threshold=np.inf)\n",
    "print(cluster.labels_[0:399])"
   ]
  },
  {
   "cell_type": "code",
   "execution_count": 16,
   "metadata": {},
   "outputs": [
    {
     "name": "stdout",
     "output_type": "stream",
     "text": [
      "[ 7  7  7  7 10  2  7  0 13 10  7 13  7  7  7  7  7  7  7  7 33 33 13 13\n",
      "  7  7 19  7  8  2 22 19 19 19 11 39 46 19 46 15 45  7  7 19  5 33  7  7\n",
      "  0  7  7  7  7 13  7  7 19  5 18  2  7 10  7  7 10  7 13  7  7  7  7  7\n",
      " 19  7  7 15 36  7 19  7  7  7  7  7 22  7  7 10  7  7  7  7  7  7  7 19\n",
      "  7  7  7  7 13  7  7  7  7  7  7  7  7 10  7  7 13  7  7  7  7 10  7 13\n",
      "  7  7  7  7  7  7  7  7  7  7  7  7  7  7 46  7 13  7 36  7  7  7  7  7\n",
      "  7  7  7  7  7 22 32  7 10  7 32  7  7  7 32  7 32 32 10  7  7  7 33 33\n",
      " 13  7 10  7  7  7  7 13 46 33 32  7 10  7  7 19  7  7  7  7  7  7  7  7\n",
      "  7  7  7  7  7  7  7  7  7 32 32 32 32  7  7  7  7  7  7  7  7 10 10 10\n",
      "  7  7  7  7 10  7 32  7 19  7  7  7  7 32  7  7 32 10  7 32  7  7  7  7\n",
      " 32  7  7 32 32 32  7 10 10  7  7  7  7  7 32  7 33  7  7  7  7  7  7 10\n",
      " 10 10 32 10 32 32 32 32 32 32 32 32 32 32 32 10 32 32 32 32 32 32 32 32\n",
      " 32 32 32 32 32 32 34 32 32 32 32 32 32 32 32 32 32 32  7 32 32 32 32 32\n",
      " 32 32 32 32 32 32 32 32 32 32 32 34 32 32 32 32 32 32 32 32 32  7 10 32\n",
      " 32 32 32 32 32 32 32 32 32 32 32 32 32 32 32 32 32  2  8 42 24 24 16 24\n",
      " 24 24 11  0  0 36 11 24 24 11 24 24 11 11 11 11 11  2 11 11 11 11 11  0\n",
      " 11 11 11 11 24 46 11 11 11 11 11 11 11 11 19  5]\n"
     ]
    }
   ],
   "source": [
    "print(cluster.labels_[399:799])"
   ]
  },
  {
   "cell_type": "code",
   "execution_count": 17,
   "metadata": {},
   "outputs": [
    {
     "name": "stdout",
     "output_type": "stream",
     "text": [
      "[24 11 11 39 11 33 11 11 11 11 11 14 11 11 11 11 11 14 11 11 11 11 11 11\n",
      " 11 11 11 11 19 19 24 46 24 42 19 11 19 19 19 19 19 11 19 24 19 10 46 11\n",
      " 11 11 11 11 11 11 11 11 11 11 11 11 11 11 11 11  5 11 11 11  5 19  5 19\n",
      " 11 14 16 19 46 19 19 19 16 19 42 19 19 19 19 19 19 24 19 19 19 19 16 11\n",
      " 11 11 11 36 11 11 11 11 11 19 11 11 19 11 39 19 19 19 11 11 14 11 11 11\n",
      " 46 11 11 11 11 19 11 19 19 19 19 19 11 19 11 19 19 11 19 19 24 16 11 11\n",
      " 11 36 11 19 11 46 19 19 19 19 19 19 19 19 19 19 19 19 19 19 19 19 19 19\n",
      " 19 19 19 19 19 19 19  7 19 19 19 19 19 11 19 19 19 24 19 10 11 19 24 19\n",
      " 11 19 11 19 11 19 19 19 15 19 19 19 19 19 19 11 19 19 19 19 19 19 19 19\n",
      " 19 19 19 36 19 19 42 19 19  7 19 19 19 19 19 11 19 19 19 19 19 19 19 19\n",
      " 19  7 19 19 19 19 19 19 19 19 19 19 19 19 19 19 19 11 19 19 19 19 19 19\n",
      " 19 19 19 19 19 19 19 19 19 19 19 19 19 19 19 19 19 19 31 19 19 19 17 19\n",
      " 36 19 19 19 19 19 19 11 19 19 19 19 19 19 19 24 42 19 19 19 19 19 15 19\n",
      " 19 19 19 19 19 42 19 17 19  7 19  7 19 19 19 19 19 35  3  2  2  2 18 18\n",
      " 44 18 18 11  8 18 18 18 11 28 18 18 18 18 18  2 18 18 18  8 18 18 18 18\n",
      " 18 18 18 18 18 18 18  2 18 18 18 18 18 18 18 18  8 28 18 18 18 18 18 18\n",
      " 18 18 18 18 18 18 14 18 18 14 18 18 18 18 13 18]\n"
     ]
    }
   ],
   "source": [
    "print(cluster.labels_[799:1199])"
   ]
  },
  {
   "cell_type": "code",
   "execution_count": null,
   "metadata": {},
   "outputs": [],
   "source": []
  }
 ],
 "metadata": {
  "kernelspec": {
   "display_name": "Python 3",
   "language": "python",
   "name": "python3"
  },
  "language_info": {
   "codemirror_mode": {
    "name": "ipython",
    "version": 3
   },
   "file_extension": ".py",
   "mimetype": "text/x-python",
   "name": "python",
   "nbconvert_exporter": "python",
   "pygments_lexer": "ipython3",
   "version": "3.8.5"
  }
 },
 "nbformat": 4,
 "nbformat_minor": 4
}
