{
 "cells": [
  {
   "cell_type": "markdown",
   "metadata": {},
   "source": [
    "## Application du clustering au données digits"
   ]
  },
  {
   "cell_type": "code",
   "execution_count": 11,
   "metadata": {},
   "outputs": [],
   "source": [
    "import numpy as np\n",
    "from sklearn.cluster import  KMeans\n",
    "from sklearn.metrics import confusion_matrix\n",
    "import matplotlib.pyplot as plt\n",
    "\n",
    "raw = np.loadtxt(\"KeyboardData1.csv\",dtype='str',delimiter=',')\n",
    "data = raw[1:,1:]\n",
    "variables = raw[1, :]\n",
    "individus = raw[1:, 0].astype(int)"
   ]
  },
  {
   "cell_type": "code",
   "execution_count": 17,
   "metadata": {},
   "outputs": [
    {
     "name": "stdout",
     "output_type": "stream",
     "text": [
      "(19176, 21)\n"
     ]
    }
   ],
   "source": [
    "print(np.shape(data))"
   ]
  },
  {
   "cell_type": "markdown",
   "metadata": {},
   "source": [
    "### Réalisation du clustering\n",
    "\n",
    "Le nombre de classes nclus est choisi par défaut comme égal au nombre d'étiquettes"
   ]
  },
  {
   "cell_type": "code",
   "execution_count": 14,
   "metadata": {},
   "outputs": [],
   "source": [
    "# Clustering avec la fonction KMeans du module scikit learn ===================\n",
    "k_means = KMeans(init='k-means++', n_clusters=len(np.unique(individus)), n_init=10)\n",
    "k_means.fit(data)\n",
    "cl = k_means.labels_ # classes \"prédites\" \n"
   ]
  },
  {
   "cell_type": "code",
   "execution_count": 18,
   "metadata": {},
   "outputs": [
    {
     "data": {
      "text/plain": [
       "array([[0.08654498, 0.20271866, 0.08384737, ..., 0.08901722, 0.22631388,\n",
       "        0.07844115],\n",
       "       [0.09244132, 0.23323301, 0.07711513, ..., 0.10519154, 0.16456424,\n",
       "        0.09469562],\n",
       "       [0.08717804, 0.29192792, 0.1133969 , ..., 0.08761384, 0.40483795,\n",
       "        0.08986635],\n",
       "       ...,\n",
       "       [0.09342083, 0.18065644, 0.09014167, ..., 0.0933947 , 0.68523295,\n",
       "        0.1020072 ],\n",
       "       [0.05936   , 0.92664   , 0.05692   , ..., 0.06134   , 4.73956   ,\n",
       "        0.05896   ],\n",
       "       [0.09437806, 0.13647878, 0.0835295 , ..., 0.1069482 , 0.17551043,\n",
       "        0.09360432]])"
      ]
     },
     "execution_count": 18,
     "metadata": {},
     "output_type": "execute_result"
    }
   ],
   "source": [
    "k_means.cluster_centers_"
   ]
  },
  {
   "cell_type": "markdown",
   "metadata": {},
   "source": [
    "### Calcul de l'étiquette majoritaire de chaque classe"
   ]
  },
  {
   "cell_type": "code",
   "execution_count": 24,
   "metadata": {},
   "outputs": [
    {
     "name": "stdout",
     "output_type": "stream",
     "text": [
      "Classe............. 0 1 2 3 4 5 6 7 8 9 10 11 12 13 14 15 16 17 18 19 20 21 22 23 24 25 26 27 28 29 30 31 32 33 34 35 36 37 38 39 40 41 42 43 44 45 46 47 48 49 50 \n",
      "Label majoritaire.. 44 42 49 25 49 49 36 38 25 49 52 24 43 27 10 41 27 22 49 33 22 49 22 16 36 40 3 22 33 36 16 24 49 46 49 36 35 30 7 19 40 22 55 36 30 38 40 36 19 36 47 \n",
      "\n"
     ]
    }
   ],
   "source": [
    "print(\"Classe\".ljust(19,'.')+\" \",end='')\n",
    "for k in range(k_means.n_clusters): print(str(k)+\" \",end='')\n",
    "print(\"\\n\"+\"Label majoritaire\".ljust(19,'.')+\" \",end='')\n",
    "cl_lab = np.copy(cl)\n",
    "for k in range(k_means.n_clusters):\n",
    "  counts=np.unique(individus[cl==k],return_counts=True) # Nb d'occurences de chaque label\n",
    "  maj_lab=individus[np.argmax(counts[1])] # Son étiquette\n",
    "  imax=np.argmax(counts[1]) # Calcul du majoritaire\n",
    "  maj_lab=counts[0][imax] # Son étiquette\n",
    "  print(str(maj_lab),end=' ')\n",
    "  cl_lab[cl==k] = maj_lab\n",
    "cl_lab = np.copy(cl)\n",
    "print('\\n')"
   ]
  },
  {
   "cell_type": "markdown",
   "metadata": {},
   "source": [
    "### Calcul de la matrice de confusion brute"
   ]
  },
  {
   "cell_type": "code",
   "execution_count": 19,
   "metadata": {},
   "outputs": [
    {
     "name": "stdout",
     "output_type": "stream",
     "text": [
      "Matrice de confusion:\n",
      "   Une ligne = un digit\n",
      "   Une colonne = un cluster\n",
      "\n",
      "[[ 0  0  0 ...  0  0  0]\n",
      " [ 0  0  0 ...  0  0  0]\n",
      " [ 1  3  0 ...  0  0  0]\n",
      " ...\n",
      " [ 0  5  0 ...  0  0  0]\n",
      " [ 0  5  0 ...  0  0  0]\n",
      " [ 2 13  2 ...  0  0  0]]\n"
     ]
    }
   ],
   "source": [
    "conf_mat =  confusion_matrix(individus,cl)\n",
    "print(\"Matrice de confusion:\")\n",
    "print(\"   Une ligne = un digit\\n   Une colonne = un cluster\\n\")\n",
    "print(conf_mat)"
   ]
  },
  {
   "cell_type": "markdown",
   "metadata": {},
   "source": [
    "### Représentation en barplot"
   ]
  },
  {
   "cell_type": "code",
   "execution_count": 22,
   "metadata": {},
   "outputs": [
    {
     "data": {
      "text/plain": [
       "Text(0.5, 1.0, 'Répartition dans chaque classe')"
      ]
     },
     "execution_count": 22,
     "metadata": {},
     "output_type": "execute_result"
    },
    {
     "data": {
      "image/png": "[encoded data removed]",
      "text/plain": [
       "<Figure size 960x960 with 1 Axes>"
      ]
     },
     "metadata": {},
     "output_type": "display_data"
    }
   ],
   "source": [
    "def BarPlotMat(M): \n",
    "# Fait un barplot pour chaque colonne de M.\n",
    "# La couleur correspond à l'indice, la hauteur à la valeur\n",
    "  I=M.shape[0]\n",
    "  J=M.shape[1]\n",
    "  ind = np.arange(J)\n",
    "  haut = 0*M[0,:]\n",
    "  for i in range(I):\n",
    "    plt.bar(ind,M[i,:],bottom=haut,color=plt.cm.inferno(i/(I-1)))\n",
    "    haut += M[i,:]\n",
    "fig=plt.figure(num=3, figsize=(12, 12), dpi=80, facecolor='w', edgecolor='k')\n",
    "plt.clf()\n",
    "BarPlotMat(conf_mat)\n",
    "plt.xlabel('Classe')\n",
    "plt.ylabel('Répartition des étiquettes')\n",
    "plt.title('Répartition dans chaque classe')\n"
   ]
  },
  {
   "cell_type": "code",
   "execution_count": null,
   "metadata": {},
   "outputs": [],
   "source": []
  }
 ],
 "metadata": {
  "kernelspec": {
   "display_name": "Python 3",
   "language": "python",
   "name": "python3"
  },
  "language_info": {
   "codemirror_mode": {
    "name": "ipython",
    "version": 3
   },
   "file_extension": ".py",
   "mimetype": "text/x-python",
   "name": "python",
   "nbconvert_exporter": "python",
   "pygments_lexer": "ipython3",
   "version": "3.8.5"
  }
 },
 "nbformat": 4,
 "nbformat_minor": 4
}
