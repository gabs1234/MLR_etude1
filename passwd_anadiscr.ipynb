{
 "cells": [
  {
   "cell_type": "code",
   "execution_count": 1,
   "metadata": {},
   "outputs": [],
   "source": [
    "import numpy as np\n",
    "import matplotlib.pyplot as plt\n",
    "keys=np.loadtxt(\"KeyboardData1.csv\",dtype='str',delimiter=',')\n",
    "labels = keys[1:,0]\n",
    "keys=keys[:,1:] # On retire la premiere colonne\n",
    "varbs=keys[0,:] #nom des variables\n",
    "X=keys[1:,:].astype(float)"
   ]
  },
  {
   "cell_type": "code",
   "execution_count": 2,
   "metadata": {},
   "outputs": [
    {
     "name": "stdout",
     "output_type": "stream",
     "text": [
      "[[0.1491 0.2488 0.1069 ... 0.1338 0.2171 0.0742]\n",
      " [0.1111 0.234  0.0694 ... 0.0839 0.1917 0.0747]\n",
      " [0.1328 0.0744 0.0731 ... 0.1085 0.1762 0.0945]\n",
      " ...\n",
      " [0.0939 0.025  0.1008 ... 0.1034 0.0983 0.0905]\n",
      " [0.0923 0.0371 0.0913 ... 0.0979 0.0938 0.0931]\n",
      " [0.0596 0.0714 0.0992 ... 0.0807 0.1186 0.1018]]\n",
      "['2' '2' '2' ... '57' '57' '57']\n"
     ]
    }
   ],
   "source": [
    "print(X)\n",
    "print(labels)"
   ]
  },
  {
   "cell_type": "markdown",
   "metadata": {},
   "source": [
    "### Analyse discriminante linéaire "
   ]
  },
  {
   "cell_type": "code",
   "execution_count": 33,
   "metadata": {},
   "outputs": [
    {
     "name": "stdout",
     "output_type": "stream",
     "text": [
      "Taux d'erreur:  0.22\n"
     ]
    }
   ],
   "source": [
    "from sklearn.discriminant_analysis import LinearDiscriminantAnalysis\n",
    "from sklearn.metrics import confusion_matrix\n",
    "\n",
    "lda = LinearDiscriminantAnalysis()\n",
    "lda.fit(X,labels)\n",
    "yhat = lda.predict(X)\n",
    "errl=sum(labels!=yhat)/len(labels)\n",
    "print(\"Taux d'erreur: \",round(errl,4))"
   ]
  },
  {
   "cell_type": "code",
   "execution_count": 34,
   "metadata": {},
   "outputs": [
    {
     "name": "stdout",
     "output_type": "stream",
     "text": [
      "['2' '31' '2' ... '57' '26' '55']\n"
     ]
    }
   ],
   "source": [
    "print(yhat)"
   ]
  },
  {
   "cell_type": "markdown",
   "metadata": {},
   "source": [
    "### Avec validation croisée\n",
    "On fait ici la validation croisée la plus simple en coupant l'ensemble en deux\n"
   ]
  },
  {
   "cell_type": "code",
   "execution_count": 35,
   "metadata": {},
   "outputs": [
    {
     "name": "stdout",
     "output_type": "stream",
     "text": [
      "Taux d'erreur:  0.228\n"
     ]
    }
   ],
   "source": [
    "y = labels\n",
    "ntest=np.floor(len(y)/2).astype(int)\n",
    "per=np.random.permutation(len(y))\n",
    "lt,la=per[:ntest], per[ntest:]\n",
    "Xa,Xt=X[la,:],X[lt,:] \n",
    "ya,yt=y[la],y[lt] \n",
    "lda.fit(Xa,ya)\n",
    "yhat = lda.predict(Xt)      \n",
    "errl=sum(yt!=yhat)/len(yt)\n",
    "print(\"Taux d'erreur: \",round(errl,3))"
   ]
  },
  {
   "cell_type": "markdown",
   "metadata": {},
   "source": [
    "### Moyenne de N tirage"
   ]
  },
  {
   "cell_type": "code",
   "execution_count": 37,
   "metadata": {},
   "outputs": [
    {
     "name": "stdout",
     "output_type": "stream",
     "text": [
      "0.2263\n"
     ]
    }
   ],
   "source": [
    "N = 10\n",
    "errl=0\n",
    "for i in range(N):\n",
    "    ntest=np.floor(len(y)/2).astype(int)\n",
    "    per=np.random.permutation(len(y))\n",
    "    lt,la=per[:ntest], per[ntest:]\n",
    "    Xa,Xt=X[la,:],X[lt,:] \n",
    "    ya,yt=y[la],y[lt] \n",
    "    lda.fit(Xa,ya)\n",
    "    yhat = lda.predict(Xt)      \n",
    "    errl+=sum(yt!=yhat)/len(yt)\n",
    "errl = errl/N\n",
    "print(round(errl,4))"
   ]
  },
  {
   "cell_type": "markdown",
   "metadata": {},
   "source": [
    "### Analyse discriminante quadratique "
   ]
  },
  {
   "cell_type": "code",
   "execution_count": 99,
   "metadata": {},
   "outputs": [
    {
     "name": "stdout",
     "output_type": "stream",
     "text": [
      "Taux d'erreur:  0.242\n",
      "Matrice de confusion (sans validation croisée)\n",
      "\n",
      "    yh=0 yh=1\n",
      "y=0  257 45  \n",
      "y=1  67  93  \n"
     ]
    }
   ],
   "source": [
    "from sklearn.discriminant_analysis import QuadraticDiscriminantAnalysis\n",
    "\n",
    "lda = QuadraticDiscriminantAnalysis()\n",
    "lda.fit(X,y)\n",
    "yhat = lda.predict(X)\n",
    "errl=sum(y!=yhat)/len(y)\n",
    "print(\"Taux d'erreur: \",round(errl,3))\n",
    "conf =  confusion_matrix(y,yhat)\n",
    "print(\"Matrice de confusion (sans validation croisée)\\n\")\n",
    "conf=conf.astype(str)\n",
    "conf=np.append(np.array(['y=0  ','y=1  '])[:,np.newaxis],conf,axis=1)\n",
    "conf=np.append(np.array(['   ','yh=0 ','yh=1'])[np.newaxis,:],conf,axis=0)\n",
    "print('\\n'.join([''.join(['{:4}'.format(item) for item in row]) \n",
    "      for row in conf]))"
   ]
  },
  {
   "cell_type": "code",
   "execution_count": 109,
   "metadata": {},
   "outputs": [
    {
     "name": "stdout",
     "output_type": "stream",
     "text": [
      "Taux d'erreur:  0.337\n"
     ]
    }
   ],
   "source": [
    "ntest=np.floor(len(y)/5).astype(int)\n",
    "per=np.random.permutation(len(y))\n",
    "lt,la=per[:ntest], per[ntest:]\n",
    "Xa,Xt=X[la,:],X[lt,:] \n",
    "ya,yt=y[la],y[lt] \n",
    "lda.fit(Xa,ya)\n",
    "yhat = lda.predict(Xt)      \n",
    "errl=sum(yt!=yhat)/len(yt)\n",
    "print(\"Taux d'erreur: \",round(errl,3))"
   ]
  },
  {
   "cell_type": "code",
   "execution_count": null,
   "metadata": {},
   "outputs": [],
   "source": []
  }
 ],
 "metadata": {
  "kernelspec": {
   "display_name": "Python 3",
   "language": "python",
   "name": "python3"
  },
  "language_info": {
   "codemirror_mode": {
    "name": "ipython",
    "version": 3
   },
   "file_extension": ".py",
   "mimetype": "text/x-python",
   "name": "python",
   "nbconvert_exporter": "python",
   "pygments_lexer": "ipython3",
   "version": "3.8.5"
  }
 },
 "nbformat": 4,
 "nbformat_minor": 4
}
